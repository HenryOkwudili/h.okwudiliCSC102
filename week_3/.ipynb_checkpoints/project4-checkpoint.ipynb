{
 "cells": [
  {
   "cell_type": "code",
   "execution_count": 20,
   "id": "a2c0f8e1",
   "metadata": {},
   "outputs": [
    {
     "name": "stdout",
     "output_type": "stream",
     "text": [
      "Finding the roots for the cubic equation: Ax3+Bx2+Cx+D\n",
      "Input A: 1\n",
      "Input B: 6\n",
      "Input C: 12\n",
      "Input D: 8\n",
      "F is 0.0\n",
      "G is 0.0\n",
      "H is 0.0\n",
      "All 3 roots are real\n",
      "i is 0.0\n",
      "j is 0.0\n"
     ]
    },
    {
     "ename": "ZeroDivisionError",
     "evalue": "float division by zero",
     "output_type": "error",
     "traceback": [
      "\u001b[1;31m---------------------------------------------------------------------------\u001b[0m",
      "\u001b[1;31mZeroDivisionError\u001b[0m                         Traceback (most recent call last)",
      "Cell \u001b[1;32mIn[20], line 25\u001b[0m\n\u001b[0;32m     23\u001b[0m j \u001b[38;5;241m=\u001b[39m i\u001b[38;5;241m*\u001b[39m\u001b[38;5;241m*\u001b[39m(\u001b[38;5;241m1\u001b[39m\u001b[38;5;241m/\u001b[39m\u001b[38;5;241m3\u001b[39m)\n\u001b[0;32m     24\u001b[0m \u001b[38;5;28mprint\u001b[39m(\u001b[38;5;124mf\u001b[39m\u001b[38;5;124m\"\u001b[39m\u001b[38;5;124mj is \u001b[39m\u001b[38;5;132;01m{\u001b[39;00mj\u001b[38;5;132;01m}\u001b[39;00m\u001b[38;5;124m\"\u001b[39m)\n\u001b[1;32m---> 25\u001b[0m a \u001b[38;5;241m=\u001b[39m(\u001b[38;5;241;43m-\u001b[39;49m\u001b[43mg\u001b[49m\u001b[38;5;241;43m/\u001b[39;49m\u001b[43m(\u001b[49m\u001b[38;5;241;43m2\u001b[39;49m\u001b[38;5;241;43m*\u001b[39;49m\u001b[43mi\u001b[49m\u001b[43m)\u001b[49m)\n\u001b[0;32m     26\u001b[0m \u001b[38;5;28;01mif\u001b[39;00m \u001b[38;5;241m-\u001b[39m\u001b[38;5;241m1\u001b[39m \u001b[38;5;241m<\u001b[39m\u001b[38;5;241m=\u001b[39m a \u001b[38;5;241m<\u001b[39m\u001b[38;5;241m=\u001b[39m \u001b[38;5;241m1\u001b[39m:\n\u001b[0;32m     27\u001b[0m     k \u001b[38;5;241m=\u001b[39m (math\u001b[38;5;241m.\u001b[39macos(a))\n",
      "\u001b[1;31mZeroDivisionError\u001b[0m: float division by zero"
     ]
    }
   ],
   "source": [
    "import math\n",
    "\n",
    "print(\"Finding the roots for the cubic equation: Ax3+Bx2+Cx+D\")\n",
    "\n",
    "A = float(input(\"Input A: \"))\n",
    "B = float(input(\"Input B: \"))\n",
    "C = float(input(\"Input C: \"))\n",
    "D = float(input(\"Input D: \"))\n",
    "\n",
    "f = (((3*C)/A)-(B**2/A**2))/3\n",
    "print(f\"F is {f}\")\n",
    "\n",
    "g = ((2*B**3/A**3)-(9*B*C/A**2)+(27*D/A))/27\n",
    "print(f\"G is {g}\")\n",
    "\n",
    "h = ((g**2)/4)+((f**3)/27)\n",
    "print(f\"H is {h}\")\n",
    "\n",
    "if h <= 0:\n",
    "    print(\"All 3 roots are real\")\n",
    "    i = ((g**2/4)-h)**(1/2)\n",
    "    print(f\"i is {i}\")\n",
    "    j = i**(1/3)\n",
    "    print(f\"j is {j}\")\n",
    "    a =(-g/(2*i))\n",
    "    if -1 <= a <= 1:\n",
    "        k = (math.acos(a))\n",
    "        l = j*(-1)\n",
    "        m = (math.cos(k/3))\n",
    "        n = (math.sqrt(3))*(math.sin(k/3))\n",
    "        p = (B/(3*A))*(-1)\n",
    "        xa = (2*j*(math.cos(k/3))) -(B/(3*A))\n",
    "        xb = l*(m+n)+p\n",
    "        xc = l*(m-n)+p\n",
    "        print(f\"{xa}, {xb}, {xc}\")\n",
    "    else:\n",
    "        print(f\"Error: a ({a}) is not within the valid range for math.acos() i.e -1 < a < 1\")\n",
    "\n",
    "elif h > 0:\n",
    "    print(\"Only 1 real root and 2 imaginary roots\")\n",
    "    i = ((-g/2)+(h**(1/2)))**(1/3)\n",
    "    j = ((-g/2)-(h**(1/2)))**(1/3)\n",
    "    if i == 0:\n",
    "        xa = xb = xc = -(B/(3*A))\n",
    "    else:\n",
    "        xa = (j+i)-(B/(3*A))\n",
    "        xb = (-1/2)*(j+i)-(B/(3*A))+(i-j)*(3**(1/2))/2\n",
    "        xc = (-1/2)*(j+i)-(B/(3*A))-(i-j)*(3**(1/2))/2\n",
    "    print(f\"{xa}, {xb}, {xc}\")\n",
    "\n",
    "elif f == 0 and g == 0 and h == 0:\n",
    "    print (\"All 3 roots are equal\")\n",
    "    xa = xb = xc = ((D / A)**(1/3))*(-1)\n",
    "    print(f\"x1 is {xa}, x2 is {xb}, x3 is {xc}\")\n"
   ]
  },
  {
   "cell_type": "code",
   "execution_count": 14,
   "id": "9fe675bf",
   "metadata": {},
   "outputs": [],
   "source": [
    "import math  \n",
    "\n",
    "b = 0.2\n",
    "a =b\n",
    "if a < b and b == -a:\n",
    "    \n",
    "    print (a)\n",
    "    print (math.acos(a))\n"
   ]
  },
  {
   "cell_type": "code",
   "execution_count": 43,
   "id": "49dff662",
   "metadata": {},
   "outputs": [
    {
     "name": "stdout",
     "output_type": "stream",
     "text": [
      "i5\n"
     ]
    }
   ],
   "source": [
    "a = 5\n",
    "print(f\"i{a}\")"
   ]
  },
  {
   "cell_type": "code",
   "execution_count": 16,
   "id": "696ccc9a",
   "metadata": {},
   "outputs": [
    {
     "name": "stdout",
     "output_type": "stream",
     "text": [
      "5.0\n"
     ]
    }
   ],
   "source": [
    "a = b = c = 5.0\n",
    "print (b)\n"
   ]
  },
  {
   "cell_type": "code",
   "execution_count": null,
   "id": "54a611c7",
   "metadata": {},
   "outputs": [],
   "source": []
  }
 ],
 "metadata": {
  "kernelspec": {
   "display_name": "Python 3 (ipykernel)",
   "language": "python",
   "name": "python3"
  },
  "language_info": {
   "codemirror_mode": {
    "name": "ipython",
    "version": 3
   },
   "file_extension": ".py",
   "mimetype": "text/x-python",
   "name": "python",
   "nbconvert_exporter": "python",
   "pygments_lexer": "ipython3",
   "version": "3.10.9"
  }
 },
 "nbformat": 4,
 "nbformat_minor": 5
}
