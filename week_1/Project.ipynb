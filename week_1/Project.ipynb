{
 "cells": [
  {
   "cell_type": "code",
   "execution_count": 8,
   "id": "04d0485d",
   "metadata": {
    "scrolled": true
   },
   "outputs": [
    {
     "name": "stdout",
     "output_type": "stream",
     "text": [
      "Input principal: 2\n",
      "Input rate: 3\n",
      "Input time: 4\n",
      "8.24\n"
     ]
    }
   ],
   "source": [
    "p = float(input(\"Input principal: \" ))\n",
    "r = float(input(\"Input rate: \" ))\n",
    "t = float(input(\"Input time: \"))\n",
    "s = float((r / 100))\n",
    "A = float(p*(1+s)*t)\n",
    "print(A)\n"
   ]
  },
  {
   "cell_type": "code",
   "execution_count": 7,
   "id": "ba694c78",
   "metadata": {},
   "outputs": [
    {
     "name": "stdout",
     "output_type": "stream",
     "text": [
      "Input principal: 2\n",
      "Input rate: 3\n",
      "Input time: 4\n",
      "Input number: 5\n",
      "2.0000731231688014\n"
     ]
    }
   ],
   "source": [
    "p = float(input(\"Input principal: \" ))\n",
    "r = float(input(\"Input rate: \" ))\n",
    "t = float(input(\"Input time: \"))\n",
    "n = float(input(\"Input number: \"))\n",
    "A = (p*(1+(r/n)**(n*t)))\n",
    "print(A)"
   ]
  },
  {
   "cell_type": "code",
   "execution_count": 9,
   "id": "6419f505",
   "metadata": {},
   "outputs": [
    {
     "name": "stdout",
     "output_type": "stream",
     "text": [
      "Input PMT: 2\n",
      "Input rate: 3\n",
      "Input time: 4\n",
      "Input number: 5\n",
      "20147.096993577175\n"
     ]
    }
   ],
   "source": [
    "pmt = float(input(\"Input PMT: \" ))\n",
    "r = float(input(\"Input rate: \" ))\n",
    "t = float(input(\"Input time: \"))\n",
    "n = float(input(\"Input number: \"))\n",
    "N = float(n*t)\n",
    "R = float(r/n)\n",
    "P = float((1+R)**N)\n",
    "A = (P-1)/R\n",
    "print(A)"
   ]
  },
  {
   "cell_type": "code",
   "execution_count": 2,
   "id": "7b33eba7",
   "metadata": {},
   "outputs": [
    {
     "data": {
      "text/plain": [
       "4.0"
      ]
     },
     "execution_count": 2,
     "metadata": {},
     "output_type": "execute_result"
    }
   ],
   "source": [
    "8/2\n"
   ]
  },
  {
   "cell_type": "code",
   "execution_count": 3,
   "id": "76b42bb8",
   "metadata": {},
   "outputs": [
    {
     "data": {
      "text/plain": [
       "4"
      ]
     },
     "execution_count": 3,
     "metadata": {},
     "output_type": "execute_result"
    }
   ],
   "source": [
    "8//2\n"
   ]
  },
  {
   "cell_type": "code",
   "execution_count": null,
   "id": "63ebf9db",
   "metadata": {},
   "outputs": [],
   "source": []
  }
 ],
 "metadata": {
  "kernelspec": {
   "display_name": "Python 3 (ipykernel)",
   "language": "python",
   "name": "python3"
  },
  "language_info": {
   "codemirror_mode": {
    "name": "ipython",
    "version": 3
   },
   "file_extension": ".py",
   "mimetype": "text/x-python",
   "name": "python",
   "nbconvert_exporter": "python",
   "pygments_lexer": "ipython3",
   "version": "3.10.9"
  }
 },
 "nbformat": 4,
 "nbformat_minor": 5
}
