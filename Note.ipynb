{
 "cells": [
  {
   "cell_type": "code",
   "execution_count": 1,
   "id": "1d6e7c7d",
   "metadata": {},
   "outputs": [
    {
     "name": "stdout",
     "output_type": "stream",
     "text": [
      "Hello Jay\n"
     ]
    }
   ],
   "source": [
    "print(\"Hello Jay\")"
   ]
  },
  {
   "cell_type": "code",
   "execution_count": 2,
   "id": "4de62787",
   "metadata": {},
   "outputs": [
    {
     "name": "stdout",
     "output_type": "stream",
     "text": [
      "What's your name? henry\n",
      "Hello,  henry\n"
     ]
    }
   ],
   "source": [
    "person = input(\"What's your name? \")\n",
    "print('Hello, ',person)"
   ]
  },
  {
   "cell_type": "code",
   "execution_count": 4,
   "id": "f8c4d627",
   "metadata": {},
   "outputs": [
    {
     "name": "stdout",
     "output_type": "stream",
     "text": [
      "12\n"
     ]
    }
   ],
   "source": [
    "age = 12\n",
    "print(age)"
   ]
  },
  {
   "cell_type": "code",
   "execution_count": 5,
   "id": "aa63a155",
   "metadata": {},
   "outputs": [
    {
     "name": "stdout",
     "output_type": "stream",
     "text": [
      "42\n"
     ]
    }
   ],
   "source": [
    "x = 6\n",
    "y = x * 7\n",
    "print(y)"
   ]
  },
  {
   "cell_type": "code",
   "execution_count": 6,
   "id": "04febbda",
   "metadata": {},
   "outputs": [
    {
     "name": "stdout",
     "output_type": "stream",
     "text": [
      "Adele Joe\n"
     ]
    }
   ],
   "source": [
    "name = 'Adele Joe'\n",
    "print (name)"
   ]
  },
  {
   "cell_type": "code",
   "execution_count": 7,
   "id": "08697485",
   "metadata": {},
   "outputs": [
    {
     "data": {
      "text/plain": [
       "False"
      ]
     },
     "execution_count": 7,
     "metadata": {},
     "output_type": "execute_result"
    }
   ],
   "source": [
    "mango = 5\n",
    "apple = 3\n",
    "apple > mango"
   ]
  },
  {
   "cell_type": "code",
   "execution_count": 8,
   "id": "98daa897",
   "metadata": {},
   "outputs": [
    {
     "data": {
      "text/plain": [
       "False"
      ]
     },
     "execution_count": 8,
     "metadata": {},
     "output_type": "execute_result"
    }
   ],
   "source": [
    "mango < apple"
   ]
  },
  {
   "cell_type": "code",
   "execution_count": 9,
   "id": "bcd54647",
   "metadata": {
    "scrolled": true
   },
   "outputs": [
    {
     "data": {
      "text/plain": [
       "False"
      ]
     },
     "execution_count": 9,
     "metadata": {},
     "output_type": "execute_result"
    }
   ],
   "source": [
    "mango == apple"
   ]
  },
  {
   "cell_type": "code",
   "execution_count": 11,
   "id": "4fd27108",
   "metadata": {},
   "outputs": [
    {
     "name": "stdout",
     "output_type": "stream",
     "text": [
      "Hello Guys\n",
      "How are you all?\n",
      "Welcome to Python Programming\n"
     ]
    }
   ],
   "source": [
    "'''\n",
    "We are writing a simple program here\n",
    "First print statement \n",
    "This is a multiple line comment\n",
    "'''\n",
    "\n",
    "print(\"Hello Guys\")\n",
    "\n",
    "#Second print statement\n",
    "print(\"How are you all?\")\n",
    "\n",
    "#Third print statement\n",
    "print(\"Welcome to Python Programming\")"
   ]
  },
  {
   "cell_type": "code",
   "execution_count": 3,
   "id": "65457908",
   "metadata": {},
   "outputs": [
    {
     "name": "stdout",
     "output_type": "stream",
     "text": [
      "Three digit number\n"
     ]
    }
   ],
   "source": [
    "num = 100\n",
    "\n",
    "if 9 < num < 99:\n",
    "\n",
    "        print(\"Two digit number\")\n",
    "\n",
    "elif 99 < num < 999:\n",
    "        print(\"Three digit number\")\n",
    "\n",
    "elif 999 < num < 9999:\n",
    "        print(\"Four digit number\")\n",
    "        \n",
    "else:\n",
    "        print(\"number is <= 9 or >= 9999\")"
   ]
  },
  {
   "cell_type": "code",
   "execution_count": null,
   "id": "e5dc75b3",
   "metadata": {},
   "outputs": [],
   "source": []
  }
 ],
 "metadata": {
  "kernelspec": {
   "display_name": "Python 3 (ipykernel)",
   "language": "python",
   "name": "python3"
  },
  "language_info": {
   "codemirror_mode": {
    "name": "ipython",
    "version": 3
   },
   "file_extension": ".py",
   "mimetype": "text/x-python",
   "name": "python",
   "nbconvert_exporter": "python",
   "pygments_lexer": "ipython3",
   "version": "3.10.9"
  }
 },
 "nbformat": 4,
 "nbformat_minor": 5
}
