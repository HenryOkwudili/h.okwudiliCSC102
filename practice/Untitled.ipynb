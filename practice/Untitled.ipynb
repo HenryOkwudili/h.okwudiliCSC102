{
 "cells": [
  {
   "cell_type": "code",
   "execution_count": 3,
   "id": "8ec2cbe3",
   "metadata": {},
   "outputs": [
    {
     "name": "stdout",
     "output_type": "stream",
     "text": [
      "5\n",
      "(4, 5)\n"
     ]
    }
   ],
   "source": [
    "tuple = (1,2,3,4,5)\n",
    "print(tuple[-1])\n",
    "print(tuple[3:])"
   ]
  },
  {
   "cell_type": "code",
   "execution_count": 10,
   "id": "4922e549",
   "metadata": {
    "scrolled": true
   },
   "outputs": [
    {
     "name": "stdout",
     "output_type": "stream",
     "text": [
      "Enter numbers to find sum, negative number ends the loop\n",
      "5\n",
      "4\n",
      "3\n",
      "2\n",
      "1\n",
      "-1\n",
      "Sum =  15\n"
     ]
    }
   ],
   "source": [
    "entry = 0\n",
    "sum1 = 0\n",
    "print(\"Enter numbers to find sum, negative number ends the loop\")\n",
    "while True:\n",
    "    entry = int(input())\n",
    "    if (entry < 0):\n",
    "        break\n",
    "    sum1 += entry\n",
    "print(\"Sum = \", sum1)"
   ]
  },
  {
   "cell_type": "code",
   "execution_count": 11,
   "id": "01b3536a",
   "metadata": {},
   "outputs": [
    {
     "name": "stdout",
     "output_type": "stream",
     "text": [
      "Num has value1\n",
      "Num has value2\n",
      "Num has value4\n",
      "Num has value5\n",
      "Num has value6\n",
      "End of loop\n"
     ]
    }
   ],
   "source": [
    "num = 0\n",
    "for num in range(6):\n",
    "    num = num + 1\n",
    "    if num == 3:\n",
    "        continue\n",
    "    print('Num has value' + str(num))\n",
    "print('End of loop')"
   ]
  },
  {
   "cell_type": "code",
   "execution_count": 12,
   "id": "c2d041be",
   "metadata": {
    "scrolled": true
   },
   "outputs": [
    {
     "name": "stdout",
     "output_type": "stream",
     "text": [
      "0\n",
      "1\n",
      "2\n",
      "3\n",
      "4\n",
      "5\n"
     ]
    }
   ],
   "source": [
    "num = 0\n",
    "for num in range(6):\n",
    "    print(num)"
   ]
  },
  {
   "cell_type": "code",
   "execution_count": 13,
   "id": "f354ec18",
   "metadata": {},
   "outputs": [
    {
     "name": "stdout",
     "output_type": "stream",
     "text": [
      "0\n",
      "1\n",
      "2\n",
      "3\n"
     ]
    }
   ],
   "source": [
    "a = [0, 1, 2, 3]\n",
    "for a[0] in a:\n",
    "    print(a[0])"
   ]
  },
  {
   "cell_type": "code",
   "execution_count": 14,
   "id": "9568162c",
   "metadata": {},
   "outputs": [
    {
     "name": "stdout",
     "output_type": "stream",
     "text": [
      "Iteration1 of outer loop\n",
      "1\n",
      "2\n",
      "Out of inner loop\n",
      "Iteration2 of outer loop\n",
      "1\n",
      "2\n",
      "Out of inner loop\n",
      "Iteration3 of outer loop\n",
      "1\n",
      "2\n",
      "Out of inner loop\n",
      "Out of outer loop\n"
     ]
    }
   ],
   "source": [
    "for var1 in range(3):\n",
    "    print(\"Iteration\" + str(var1 + 1) + \" of outer loop\")\n",
    "    for var2 in range(2): #nested loop\n",
    "        print(var2 + 1)\n",
    "    print(\"Out of inner loop\")\n",
    "print(\"Out of outer loop\")"
   ]
  },
  {
   "cell_type": "code",
   "execution_count": 15,
   "id": "fa0709b9",
   "metadata": {},
   "outputs": [
    {
     "name": "stdout",
     "output_type": "stream",
     "text": [
      "0\n",
      "1\n",
      "2\n",
      "3\n",
      "4\n"
     ]
    }
   ],
   "source": [
    "for i in range(10):\n",
    "    if i == 5:\n",
    "        break\n",
    "    else:\n",
    "        print(i)\n",
    "else:\n",
    "    print(\"Here\")"
   ]
  },
  {
   "cell_type": "code",
   "execution_count": 21,
   "id": "2b641f68",
   "metadata": {},
   "outputs": [
    {
     "name": "stdout",
     "output_type": "stream",
     "text": [
      "m\n",
      "y\n",
      " \n",
      "n\n",
      "a\n",
      "m\n",
      "e\n",
      " \n",
      "i\n",
      "s\n",
      " \n",
      "x\n"
     ]
    }
   ],
   "source": [
    "string = \"my name is x\"\n",
    "for i in string:\n",
    "    print(i)"
   ]
  },
  {
   "cell_type": "code",
   "execution_count": 26,
   "id": "820aee7d",
   "metadata": {},
   "outputs": [
    {
     "data": {
      "text/plain": [
       "2"
      ]
     },
     "execution_count": 26,
     "metadata": {},
     "output_type": "execute_result"
    }
   ],
   "source": [
    "23%3\n"
   ]
  },
  {
   "cell_type": "code",
   "execution_count": 34,
   "id": "7cb3e31c",
   "metadata": {},
   "outputs": [
    {
     "name": "stdout",
     "output_type": "stream",
     "text": [
      "Type a breed: j\n",
      "Type a color: j\n",
      "The breed is:  j The color is:  j\n"
     ]
    }
   ],
   "source": [
    "class Dog:\n",
    "    def __init__(self,breed,color):\n",
    "        self.breed = breed\n",
    "        self.color = color\n",
    "        print(\"The breed is: \", self.breed,\"The color is: \", self.color)\n",
    "breed = input(\"Type a breed: \")\n",
    "color = input(\"Type a color: \")\n",
    "a = Dog(breed,color)\n",
    "\n",
    "        "
   ]
  },
  {
   "cell_type": "code",
   "execution_count": 49,
   "id": "745690b8",
   "metadata": {},
   "outputs": [
    {
     "name": "stdout",
     "output_type": "stream",
     "text": [
      "Enter your name: Eyo Ishan\n",
      "Welcome, Eyo Ishan!\n",
      "Your assigned task for the day is: Customer Service\n"
     ]
    }
   ],
   "source": [
    "import random\n",
    "\n",
    "class Employee:\n",
    "    def __init__(self,name):\n",
    "        self.name = name\n",
    "        \n",
    "    @staticmethod\n",
    "    def check_employee(name):\n",
    "        employees = [\"Mary Evans\", \"Eyo Ishan\", \"Durojaiye Dare\", \"Adams Ali\", \"Andrew Ugwu\",\n",
    "            \"Stella Mankinde\", \"Jane Akibo\", \"Ago James\", \"Michell Taiwo\", \"Abraham Jones\",\n",
    "            \"Nicole Anide\", \"Kosi Korso\", \"Adele Martins\", \"Emmanuel Ojo\", \"Ajayi Fatima\"\n",
    "        ]\n",
    "        return name in employees\n",
    "    \n",
    "    \n",
    "    @staticmethod    \n",
    "    def take_attendance(name):\n",
    "        attendance_file = \"attendance.txt\"\n",
    "        with open(attendance_file, \"a\") as file:\n",
    "            file.write(f\"{name}\\n\")\n",
    "    @staticmethod        \n",
    "    def assign_task(name):\n",
    "        tasks = [\n",
    "            \"Loading\", \"Transporting\", \"Reviewing Orders\", \"Customer Service\", \"Delivering Items\"\n",
    "        ]\n",
    "        assigned_task = random.choice(tasks)\n",
    "        return assigned_task\n",
    "            \n",
    "    def refuse_access(self):\n",
    "        print(f\"Sorry, {self.name}. You don't have access\")\n",
    "        \n",
    "employee_name = input(\"Enter your name: \")\n",
    "\n",
    "\n",
    "employee = Employee(employee_name)\n",
    "if employee.check_employee(employee_name):\n",
    "    employee.take_attendance(employee_name)\n",
    "    task = employee.assign_task(employee_name)\n",
    "    print(f\"Welcome, {employee_name}!\")\n",
    "    print(f\"Your assigned task for the day is: {task}\")\n",
    "else:\n",
    "    employee.refuse_access()\n",
    "   "
   ]
  },
  {
   "cell_type": "code",
   "execution_count": 47,
   "id": "51b27a9a",
   "metadata": {},
   "outputs": [
    {
     "name": "stdout",
     "output_type": "stream",
     "text": [
      "Enter your name: Eyo Ishan\n",
      "Welcome, Eyo Ishan!\n",
      "Your assigned task for the day is: Transporting\n"
     ]
    }
   ],
   "source": [
    "import random\n",
    "\n",
    "class Employee:\n",
    "    def __init__(self, name):\n",
    "        self.name = name\n",
    "\n",
    "    @staticmethod\n",
    "    def check_employee(name):\n",
    "        employees = [\n",
    "            \"Mary Evans\", \"Eyo Ishan\", \"Durojaiye Dare\", \"Adams Ali\", \"Andrew Ugwu\",\n",
    "            \"Stella Mankinde\", \"Jane Akibo\", \"Ago James\", \"Michell Taiwo\", \"Abraham Jones\",\n",
    "            \"Nicole Anide\", \"Kosi Korso\", \"Adele Martins\", \"Emmanuel Ojo\", \"Ajayi Fatima\"\n",
    "        ]\n",
    "        return name in employees\n",
    "\n",
    "    @staticmethod\n",
    "    def take_attendance(name):\n",
    "        attendance_file = \"attendance.txt\"\n",
    "        with open(attendance_file, \"a\") as file:\n",
    "            file.write(f\"{name}\\n\")\n",
    "\n",
    "    @staticmethod\n",
    "    def assign_task(name):\n",
    "        tasks = [\n",
    "            \"Loading\", \"Transporting\", \"Reviewing Orders\", \"Customer Service\", \"Delivering Items\"\n",
    "        ]\n",
    "        assigned_task = random.choice(tasks)\n",
    "        return assigned_task\n",
    "\n",
    "    def refuse_access(self):\n",
    "        print(f\"Sorry, {self.name}. You are not an authorized employee.\")\n",
    "\n",
    "# Main program\n",
    "employee_name = input(\"Enter your name: \")\n",
    "\n",
    "employee = Employee(employee_name)\n",
    "if employee.check_employee(employee_name):\n",
    "    employee.take_attendance(employee_name)\n",
    "    task = employee.assign_task(employee_name)\n",
    "    print(f\"Welcome, {employee_name}!\")\n",
    "    print(f\"Your assigned task for the day is: {task}\")\n",
    "else:\n",
    "    employee.refuse_access()\n"
   ]
  },
  {
   "cell_type": "code",
   "execution_count": 50,
   "id": "9e0e9bc7",
   "metadata": {},
   "outputs": [
    {
     "ename": "NameError",
     "evalue": "name 'val' is not defined",
     "output_type": "error",
     "traceback": [
      "\u001b[1;31m---------------------------------------------------------------------------\u001b[0m",
      "\u001b[1;31mNameError\u001b[0m                                 Traceback (most recent call last)",
      "Cell \u001b[1;32mIn[50], line 4\u001b[0m\n\u001b[0;32m      2\u001b[0m sq \u001b[38;5;241m=\u001b[39m \u001b[38;5;241m0\u001b[39m\n\u001b[0;32m      3\u001b[0m \u001b[38;5;28;01mfor\u001b[39;00m code \u001b[38;5;129;01min\u001b[39;00m \u001b[38;5;28mrange\u001b[39m(\u001b[38;5;241m3\u001b[39m,\u001b[38;5;241m5\u001b[39m):\n\u001b[1;32m----> 4\u001b[0m     sq \u001b[38;5;241m=\u001b[39m \u001b[43mval\u001b[49m\u001b[38;5;241m*\u001b[39mval\n\u001b[0;32m      5\u001b[0m     \u001b[38;5;28mprint\u001b[39m(sq)\n",
      "\u001b[1;31mNameError\u001b[0m: name 'val' is not defined"
     ]
    }
   ],
   "source": [
    "code = [1,2,3,4,5]\n",
    "sq = 0\n",
    "for code in range(3,5):\n",
    "    sq = val*val\n",
    "    print(sq)"
   ]
  },
  {
   "cell_type": "code",
   "execution_count": null,
   "id": "be5d13aa",
   "metadata": {},
   "outputs": [],
   "source": []
  }
 ],
 "metadata": {
  "kernelspec": {
   "display_name": "Python 3 (ipykernel)",
   "language": "python",
   "name": "python3"
  },
  "language_info": {
   "codemirror_mode": {
    "name": "ipython",
    "version": 3
   },
   "file_extension": ".py",
   "mimetype": "text/x-python",
   "name": "python",
   "nbconvert_exporter": "python",
   "pygments_lexer": "ipython3",
   "version": "3.10.9"
  }
 },
 "nbformat": 4,
 "nbformat_minor": 5
}
