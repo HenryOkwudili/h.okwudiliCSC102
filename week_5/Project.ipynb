{
 "cells": [
  {
   "cell_type": "code",
   "execution_count": 35,
   "id": "327fbe34",
   "metadata": {},
   "outputs": [
    {
     "name": "stdout",
     "output_type": "stream",
     "text": [
      "Name         Age    Height    Score\n",
      "---------  -----  --------  -------\n",
      "Samantha      17       5.5       80\n",
      "Jada          16       6         85\n",
      "Jane          17       5.4       70\n",
      "Claire        18       5.9       60\n",
      "Elizabeth     16       5.6       76\n",
      "Mary          18       5.5       66\n",
      "Susan         17       6.1       87\n",
      "Waje          20       6         95\n",
      "Taibat        19       5.7       50\n",
      "Lilian        17       5.5       49\n",
      "Charles       19       5.7       74\n",
      "Jude          16       5.9       87\n",
      "James         18       5.8       75\n",
      "Kelvin        17       6.1       68\n",
      "Biodun        20       5.9       66\n",
      "Wale          19       5.5       78\n",
      "Kunle         16       6.1       87\n",
      "Matthew       18       5.4       98\n",
      "Tom           17       5.8       54\n",
      "Kayode        19       5.7       60\n"
     ]
    }
   ],
   "source": [
    "from tabulate import tabulate\n",
    "\n",
    "girls = [\n",
    "    ['Samantha', 17, 5.5, 80],\n",
    "    ['Jada', 16, 6.0, 85],\n",
    "    ['Jane', 17, 5.4, 70],\n",
    "    ['Claire', 18, 5.9, 60],\n",
    "    ['Elizabeth', 16, 5.6, 76],\n",
    "    ['Mary', 18, 5.5, 66],\n",
    "    ['Susan', 17, 6.1, 87],\n",
    "    ['Waje', 20, 6.0, 95],\n",
    "    ['Taibat', 19, 5.7, 50],\n",
    "    ['Lilian', 17, 5.5, 49]\n",
    "]\n",
    "\n",
    "boys = [\n",
    "      ['Charles', 19, 5.7, 74],\n",
    "      ['Jude', 16, 5.9, 87],\n",
    "      ['James', 18, 5.8, 75],\n",
    "      ['Kelvin', 17, 6.1, 68],\n",
    "      ['Biodun', 20, 5.9, 66],\n",
    "      ['Wale', 19, 5.5, 78],\n",
    "      ['Kunle', 16, 6.1, 87],\n",
    "      ['Matthew', 18, 5.4, 98],\n",
    "      ['Tom', 17, 5.8, 54],\n",
    "      ['Kayode', 19, 5.7, 60] \n",
    "]\n",
    "titles = ['Name', 'Age', 'Height', 'Score']\n",
    "\n",
    "students = girls + boys\n",
    "\n",
    "print(tabulate(students, titles))\n",
    "\n"
   ]
  },
  {
   "cell_type": "code",
   "execution_count": 2,
   "id": "8f75a5d7",
   "metadata": {},
   "outputs": [
    {
     "name": "stdout",
     "output_type": "stream",
     "text": [
      "Enter years of experience: 30\n",
      "Enter your age: 76\n",
      "Your ATR is 5600000\n"
     ]
    }
   ],
   "source": [
    "exp = int(input(\"Enter years of experience: \"))\n",
    "age = int(input(\"Enter your age: \"))\n",
    "\n",
    "if exp > 25 and age >= 55:\n",
    "    ATR = 5600000\n",
    "    print(f\"Your ATR is {ATR}\")\n",
    "    "
   ]
  },
  {
   "cell_type": "code",
   "execution_count": null,
   "id": "845316d4",
   "metadata": {},
   "outputs": [],
   "source": []
  }
 ],
 "metadata": {
  "kernelspec": {
   "display_name": "Python 3 (ipykernel)",
   "language": "python",
   "name": "python3"
  },
  "language_info": {
   "codemirror_mode": {
    "name": "ipython",
    "version": 3
   },
   "file_extension": ".py",
   "mimetype": "text/x-python",
   "name": "python",
   "nbconvert_exporter": "python",
   "pygments_lexer": "ipython3",
   "version": "3.10.9"
  }
 },
 "nbformat": 4,
 "nbformat_minor": 5
}
