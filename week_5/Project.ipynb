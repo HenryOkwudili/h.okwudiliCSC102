{
 "cells": [
  {
   "cell_type": "code",
   "execution_count": 35,
   "id": "327fbe34",
   "metadata": {},
   "outputs": [
    {
     "name": "stdout",
     "output_type": "stream",
     "text": [
      "Name         Age    Height    Score\n",
      "---------  -----  --------  -------\n",
      "Samantha      17       5.5       80\n",
      "Jada          16       6         85\n",
      "Jane          17       5.4       70\n",
      "Claire        18       5.9       60\n",
      "Elizabeth     16       5.6       76\n",
      "Mary          18       5.5       66\n",
      "Susan         17       6.1       87\n",
      "Waje          20       6         95\n",
      "Taibat        19       5.7       50\n",
      "Lilian        17       5.5       49\n",
      "Charles       19       5.7       74\n",
      "Jude          16       5.9       87\n",
      "James         18       5.8       75\n",
      "Kelvin        17       6.1       68\n",
      "Biodun        20       5.9       66\n",
      "Wale          19       5.5       78\n",
      "Kunle         16       6.1       87\n",
      "Matthew       18       5.4       98\n",
      "Tom           17       5.8       54\n",
      "Kayode        19       5.7       60\n"
     ]
    }
   ],
   "source": [
    "from tabulate import tabulate\n",
    "\n",
    "girls = [\n",
    "    ['Samantha', 17, 5.5, 80],\n",
    "    ['Jada', 16, 6.0, 85],\n",
    "    ['Jane', 17, 5.4, 70],\n",
    "    ['Claire', 18, 5.9, 60],\n",
    "    ['Elizabeth', 16, 5.6, 76],\n",
    "    ['Mary', 18, 5.5, 66],\n",
    "    ['Susan', 17, 6.1, 87],\n",
    "    ['Waje', 20, 6.0, 95],\n",
    "    ['Taibat', 19, 5.7, 50],\n",
    "    ['Lilian', 17, 5.5, 49]\n",
    "]\n",
    "\n",
    "boys = [\n",
    "      ['Charles', 19, 5.7, 74],\n",
    "      ['Jude', 16, 5.9, 87],\n",
    "      ['James', 18, 5.8, 75],\n",
    "      ['Kelvin', 17, 6.1, 68],\n",
    "      ['Biodun', 20, 5.9, 66],\n",
    "      ['Wale', 19, 5.5, 78],\n",
    "      ['Kunle', 16, 6.1, 87],\n",
    "      ['Matthew', 18, 5.4, 98],\n",
    "      ['Tom', 17, 5.8, 54],\n",
    "      ['Kayode', 19, 5.7, 60] \n",
    "]\n",
    "titles = ['Name', 'Age', 'Height', 'Score']\n",
    "\n",
    "students = girls + boys\n",
    "\n",
    "print(tabulate(students, titles))\n",
    "\n"
   ]
  },
  {
   "cell_type": "code",
   "execution_count": 40,
   "id": "8f75a5d7",
   "metadata": {},
   "outputs": [
    {
     "name": "stdout",
     "output_type": "stream",
     "text": [
      "Enter years of experience: 26\n",
      "Enter your age: 56\n"
     ]
    },
    {
     "ename": "TypeError",
     "evalue": "'>' not supported between instances of 'str' and 'int'",
     "output_type": "error",
     "traceback": [
      "\u001b[1;31m---------------------------------------------------------------------------\u001b[0m",
      "\u001b[1;31mTypeError\u001b[0m                                 Traceback (most recent call last)",
      "Cell \u001b[1;32mIn[40], line 4\u001b[0m\n\u001b[0;32m      1\u001b[0m exp \u001b[38;5;241m=\u001b[39m \u001b[38;5;28minput\u001b[39m(\u001b[38;5;124m\"\u001b[39m\u001b[38;5;124mEnter years of experience: \u001b[39m\u001b[38;5;124m\"\u001b[39m)\n\u001b[0;32m      2\u001b[0m age \u001b[38;5;241m=\u001b[39m \u001b[38;5;28minput\u001b[39m(\u001b[38;5;124m\"\u001b[39m\u001b[38;5;124mEnter your age: \u001b[39m\u001b[38;5;124m\"\u001b[39m)\n\u001b[1;32m----> 4\u001b[0m \u001b[38;5;28;01mif\u001b[39;00m \u001b[43mexp\u001b[49m\u001b[43m \u001b[49m\u001b[38;5;241;43m>\u001b[39;49m\u001b[43m \u001b[49m\u001b[38;5;241;43m25\u001b[39;49m \u001b[38;5;129;01mand\u001b[39;00m age \u001b[38;5;241m>\u001b[39m\u001b[38;5;241m=\u001b[39m \u001b[38;5;241m55\u001b[39m:\n\u001b[0;32m      5\u001b[0m     ATR \u001b[38;5;241m=\u001b[39m \u001b[38;5;241m5600000\u001b[39m\n\u001b[0;32m      6\u001b[0m     \u001b[38;5;28mprint\u001b[39m(\u001b[38;5;124mf\u001b[39m\u001b[38;5;124m\"\u001b[39m\u001b[38;5;124mYour ATR is \u001b[39m\u001b[38;5;132;01m{\u001b[39;00mATR\u001b[38;5;132;01m}\u001b[39;00m\u001b[38;5;124m\"\u001b[39m)\n",
      "\u001b[1;31mTypeError\u001b[0m: '>' not supported between instances of 'str' and 'int'"
     ]
    }
   ],
   "source": [
    "exp = input(\"Enter years of experience: \")\n",
    "age = input(\"Enter your age: \")\n",
    "\n",
    "if exp > 25 and age >= 55:\n",
    "    ATR = 5600000\n",
    "    print(f\"Your ATR is {ATR}\")\n",
    "    "
   ]
  },
  {
   "cell_type": "code",
   "execution_count": null,
   "id": "845316d4",
   "metadata": {},
   "outputs": [],
   "source": []
  }
 ],
 "metadata": {
  "kernelspec": {
   "display_name": "Python 3 (ipykernel)",
   "language": "python",
   "name": "python3"
  },
  "language_info": {
   "codemirror_mode": {
    "name": "ipython",
    "version": 3
   },
   "file_extension": ".py",
   "mimetype": "text/x-python",
   "name": "python",
   "nbconvert_exporter": "python",
   "pygments_lexer": "ipython3",
   "version": "3.10.9"
  }
 },
 "nbformat": 4,
 "nbformat_minor": 5
}
