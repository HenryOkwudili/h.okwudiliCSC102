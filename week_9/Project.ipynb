{
 "cells": [
  {
   "cell_type": "code",
   "execution_count": null,
   "id": "f695b444",
   "metadata": {},
   "outputs": [],
   "source": [
    "import random as rd\n",
    "\n",
    "Employees = {\"Mary Evans\", \"Eyo Ishan\", \"Durojaiye Dare\", \n",
    "                     \"Adams Ali\", \"Andrew Ugwu\", \"Stella Mankinde\", \n",
    "                     \"Jane Akibo\", \"Ago James\", \"Michell Taiwo\", \n",
    "                     \"Abraham Jones\" , \"Nicole Anide\", \"Kosi Korso\", \n",
    "                     \"Adele Martins\", \"Emmanuel Ojo\", \"Ajayi Fatima\"}\n",
    "Tasks = {\"Loading\", \"Transporting\", \"Reveiwing Orders\", \n",
    "         \"Customer Service\", \"Delivering Items\"}\n",
    "\n",
    "class employee:\n",
    "    def check_employee(self):\n",
    "        \n",
    "    def take_attendance(self):\n",
    "    \n",
    "    def assign_task(self):\n",
    "        \n",
    "    def refuse_access(self):\n",
    "    \n",
    "    "
   ]
  }
 ],
 "metadata": {
  "kernelspec": {
   "display_name": "Python 3 (ipykernel)",
   "language": "python",
   "name": "python3"
  },
  "language_info": {
   "codemirror_mode": {
    "name": "ipython",
    "version": 3
   },
   "file_extension": ".py",
   "mimetype": "text/x-python",
   "name": "python",
   "nbconvert_exporter": "python",
   "pygments_lexer": "ipython3",
   "version": "3.10.9"
  }
 },
 "nbformat": 4,
 "nbformat_minor": 5
}
