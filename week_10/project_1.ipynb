{
 "cells": [
  {
   "cell_type": "code",
   "execution_count": 32,
   "id": "be0808c0",
   "metadata": {},
   "outputs": [
    {
     "name": "stdout",
     "output_type": "stream",
     "text": [
      "Enter amount of oranges: 5\n",
      "You have requested for 5 oranges at 5 dollars per orange\n",
      "Thank you, price of purchase is $25.\n"
     ]
    },
    {
     "ename": "TypeError",
     "evalue": "orange.__init__() missing 2 required positional arguments: 'stock' and 'amount'",
     "output_type": "error",
     "traceback": [
      "\u001b[1;31m---------------------------------------------------------------------------\u001b[0m",
      "\u001b[1;31mTypeError\u001b[0m                                 Traceback (most recent call last)",
      "Cell \u001b[1;32mIn[32], line 17\u001b[0m\n\u001b[0;32m     15\u001b[0m         c \u001b[38;5;241m=\u001b[39m \u001b[38;5;28mint\u001b[39m(price\u001b[38;5;241m*\u001b[39mamount)\n\u001b[0;32m     16\u001b[0m         \u001b[38;5;28mprint\u001b[39m(\u001b[38;5;124mf\u001b[39m\u001b[38;5;124m\"\u001b[39m\u001b[38;5;124mThank you, price of purchase is $\u001b[39m\u001b[38;5;132;01m{\u001b[39;00mc\u001b[38;5;132;01m}\u001b[39;00m\u001b[38;5;124m.\u001b[39m\u001b[38;5;124m\"\u001b[39m)\n\u001b[1;32m---> 17\u001b[0m purchase \u001b[38;5;241m=\u001b[39m \u001b[43morange\u001b[49m\u001b[43m(\u001b[49m\u001b[43m)\u001b[49m\n\u001b[0;32m     18\u001b[0m \u001b[38;5;28mprint\u001b[39m(purchase\u001b[38;5;241m.\u001b[39mstock)\n\u001b[0;32m     19\u001b[0m \u001b[38;5;28mprint\u001b[39m(purchase\u001b[38;5;241m.\u001b[39mamount)\n",
      "\u001b[1;31mTypeError\u001b[0m: orange.__init__() missing 2 required positional arguments: 'stock' and 'amount'"
     ]
    }
   ],
   "source": [
    "class orange:\n",
    "    amount = int(input(\"Enter amount of oranges: \"))\n",
    "    stock = int(20)\n",
    "    price = int(5)\n",
    "    def __init__(self, stock, amount):\n",
    "        self.stock = stock\n",
    "        self.amount = amount\n",
    "    \n",
    "    if amount > stock:\n",
    "        print(\"Amount entered is more than what is available, please choose amount less than 20\")\n",
    "   \n",
    "    else:\n",
    "        print(f\"You have requested for {amount} oranges at 5 dollars per orange\")\n",
    "        \n",
    "        c = int(price*amount)\n",
    "        print(f\"Thank you, price of purchase is ${c}.\")\n",
    "purchase = orange()\n",
    "print(purchase.stock)\n",
    "print(purchase.amount)\n",
    "purhcase.o"
   ]
  },
  {
   "cell_type": "code",
   "execution_count": 36,
   "id": "b0e22ce5",
   "metadata": {},
   "outputs": [
    {
     "name": "stdout",
     "output_type": "stream",
     "text": [
      "Enter amount: 5\n",
      "amount of oranges  requested is 5\n",
      "Thanks, price of purchase is: 25\n"
     ]
    },
    {
     "ename": "TypeError",
     "evalue": "orange.__init__() missing 1 required positional argument: 'stock'",
     "output_type": "error",
     "traceback": [
      "\u001b[1;31m---------------------------------------------------------------------------\u001b[0m",
      "\u001b[1;31mTypeError\u001b[0m                                 Traceback (most recent call last)",
      "Cell \u001b[1;32mIn[36], line 17\u001b[0m\n\u001b[0;32m     14\u001b[0m     c \u001b[38;5;241m=\u001b[39m \u001b[38;5;28mint\u001b[39m(price\u001b[38;5;241m*\u001b[39mamount)\n\u001b[0;32m     15\u001b[0m     \u001b[38;5;28mprint\u001b[39m(\u001b[38;5;124mf\u001b[39m\u001b[38;5;124m\"\u001b[39m\u001b[38;5;124mThanks, price of purchase is: \u001b[39m\u001b[38;5;132;01m{\u001b[39;00mc\u001b[38;5;132;01m}\u001b[39;00m\u001b[38;5;124m\"\u001b[39m)\n\u001b[1;32m---> 17\u001b[0m purchase \u001b[38;5;241m=\u001b[39m \u001b[43morange\u001b[49m\u001b[43m(\u001b[49m\u001b[43m)\u001b[49m\n\u001b[0;32m     18\u001b[0m purchase\u001b[38;5;241m.\u001b[39morange(amount)\n",
      "\u001b[1;31mTypeError\u001b[0m: orange.__init__() missing 1 required positional argument: 'stock'"
     ]
    }
   ],
   "source": [
    "class orange:\n",
    "    amount = int(input(\"Enter amount: \"))\n",
    "    stock = int(20)\n",
    "    def __init__(self,stock):\n",
    "        self.stock = stock\n",
    "        \n",
    "    def o_range(self,amount):\n",
    "        self.amount = amount\n",
    "    if amount>stock:\n",
    "        print(\"Please choose amount less than 20\")\n",
    "    else:\n",
    "        print(f\"amount of oranges  requested is {amount}\")\n",
    "    price = int(5)\n",
    "    c = int(price*amount)\n",
    "    print(f\"Thanks, price of purchase is: {c}\")\n",
    "\n",
    "purchase = orange()\n",
    "purchase.orange()\n",
    "\n"
   ]
  },
  {
   "cell_type": "code",
   "execution_count": null,
   "id": "883bb6c4",
   "metadata": {},
   "outputs": [],
   "source": []
  }
 ],
 "metadata": {
  "kernelspec": {
   "display_name": "Python 3 (ipykernel)",
   "language": "python",
   "name": "python3"
  },
  "language_info": {
   "codemirror_mode": {
    "name": "ipython",
    "version": 3
   },
   "file_extension": ".py",
   "mimetype": "text/x-python",
   "name": "python",
   "nbconvert_exporter": "python",
   "pygments_lexer": "ipython3",
   "version": "3.10.9"
  }
 },
 "nbformat": 4,
 "nbformat_minor": 5
}
