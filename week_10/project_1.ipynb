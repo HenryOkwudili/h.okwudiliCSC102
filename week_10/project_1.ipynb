{
 "cells": [
  {
   "cell_type": "code",
   "execution_count": 8,
   "id": "be0808c0",
   "metadata": {},
   "outputs": [
    {
     "name": "stdout",
     "output_type": "stream",
     "text": [
      "Enter amount of oranges: 5\n",
      "You have requested for 5 oranges at 5 dollars per orange\n",
      "Thank you, price of purchase is $25.\n"
     ]
    }
   ],
   "source": [
    "class orange:\n",
    "    \n",
    "    def __init__(self, stock, amount):\n",
    "        self.stock = stock\n",
    "        self.amount = amount\n",
    "    \n",
    "        if amount > stock:\n",
    "            print(\"Amount entered is more than what is available, please choose amount less than 20\")\n",
    "   \n",
    "        else:\n",
    "            print(f\"You have requested for {amount} oranges at 5 dollars per orange\")\n",
    "            price = int(5)\n",
    "            c = int(price*amount)\n",
    "            print(f\"Thank you, price of purchase is ${c}.\")\n",
    "        \n",
    "amount = int(input(\"Enter amount of oranges: \"))\n",
    "stock = int(20)\n",
    "\n",
    "purchase = orange(stock, amount)\n"
   ]
  },
  {
   "cell_type": "code",
   "execution_count": 9,
   "id": "b0e22ce5",
   "metadata": {},
   "outputs": [
    {
     "data": {
      "text/plain": [
       "1"
      ]
     },
     "execution_count": 9,
     "metadata": {},
     "output_type": "execute_result"
    }
   ],
   "source": [
    "1%3"
   ]
  },
  {
   "cell_type": "code",
   "execution_count": null,
   "id": "883bb6c4",
   "metadata": {},
   "outputs": [],
   "source": []
  }
 ],
 "metadata": {
  "kernelspec": {
   "display_name": "Python 3 (ipykernel)",
   "language": "python",
   "name": "python3"
  },
  "language_info": {
   "codemirror_mode": {
    "name": "ipython",
    "version": 3
   },
   "file_extension": ".py",
   "mimetype": "text/x-python",
   "name": "python",
   "nbconvert_exporter": "python",
   "pygments_lexer": "ipython3",
   "version": "3.10.9"
  }
 },
 "nbformat": 4,
 "nbformat_minor": 5
}
