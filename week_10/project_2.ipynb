{
 "cells": [
  {
   "cell_type": "code",
   "execution_count": 4,
   "id": "32e9a88e",
   "metadata": {},
   "outputs": [
    {
     "ename": "AttributeError",
     "evalue": "'calculations' object has no attribute 'calculations'",
     "output_type": "error",
     "traceback": [
      "\u001b[1;31m---------------------------------------------------------------------------\u001b[0m",
      "\u001b[1;31mAttributeError\u001b[0m                            Traceback (most recent call last)",
      "Cell \u001b[1;32mIn[4], line 9\u001b[0m\n\u001b[0;32m      7\u001b[0m         \u001b[38;5;28mprint\u001b[39m(area)\n\u001b[0;32m      8\u001b[0m work \u001b[38;5;241m=\u001b[39m calculations()\n\u001b[1;32m----> 9\u001b[0m \u001b[43mwork\u001b[49m\u001b[38;5;241;43m.\u001b[39;49m\u001b[43mcalculations\u001b[49m\n",
      "\u001b[1;31mAttributeError\u001b[0m: 'calculations' object has no attribute 'calculations'"
     ]
    }
   ],
   "source": [
    "class calculations:\n",
    "    def trapezium(self,area):\n",
    "        a = int(input())\n",
    "        b = int(input())\n",
    "        h = int(input())\n",
    "        area = (h/2)*(a+b)\n",
    "        print(area)\n",
    "work = calculations()\n",
    "work.calculations"
   ]
  },
  {
   "cell_type": "code",
   "execution_count": null,
   "id": "767d4824",
   "metadata": {},
   "outputs": [],
   "source": []
  }
 ],
 "metadata": {
  "kernelspec": {
   "display_name": "Python 3 (ipykernel)",
   "language": "python",
   "name": "python3"
  },
  "language_info": {
   "codemirror_mode": {
    "name": "ipython",
    "version": 3
   },
   "file_extension": ".py",
   "mimetype": "text/x-python",
   "name": "python",
   "nbconvert_exporter": "python",
   "pygments_lexer": "ipython3",
   "version": "3.10.9"
  }
 },
 "nbformat": 4,
 "nbformat_minor": 5
}
