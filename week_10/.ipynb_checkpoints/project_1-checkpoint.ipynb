{
 "cells": [
  {
   "cell_type": "code",
   "execution_count": 19,
   "id": "2576bf27",
   "metadata": {},
   "outputs": [
    {
     "ename": "SyntaxError",
     "evalue": "invalid syntax (2505861726.py, line 14)",
     "output_type": "error",
     "traceback": [
      "\u001b[1;36m  Cell \u001b[1;32mIn[19], line 14\u001b[1;36m\u001b[0m\n\u001b[1;33m    elif amount>stock:\u001b[0m\n\u001b[1;37m    ^\u001b[0m\n\u001b[1;31mSyntaxError\u001b[0m\u001b[1;31m:\u001b[0m invalid syntax\n"
     ]
    }
   ],
   "source": [
    "class orange:\n",
    "    def __init__(self, stock):\n",
    "        self.stock = stock\n",
    "    stock = int(20)\n",
    "    def o_range(self, amount):\n",
    "        self.amount = amount\n",
    "    amount = int(input(\"Enter amount of oranges: \"))\n",
    "    if amount > stock:\n",
    "        print(\"Amount entered is more than what is available, please choose amount less than 20\")\n",
    "   \n",
    "    else:\n",
    "        print(f\"You have requested for {amount} oranges at 5 dollars per orange\")\n",
    "        price = int(20)\n",
    "        c = int(price*amount)\n",
    "        print(f\"Thank you, price of purchase is ${c}.\")\n",
    "purchase = orange()\n",
    "print(purchase.stock)\n",
    "print(purchase.amount)\n",
    "purhcase.orange"
   ]
  },
  {
   "cell_type": "code",
   "execution_count": null,
   "id": "69c939f0",
   "metadata": {},
   "outputs": [],
   "source": []
  }
 ],
 "metadata": {
  "kernelspec": {
   "display_name": "Python 3 (ipykernel)",
   "language": "python",
   "name": "python3"
  },
  "language_info": {
   "codemirror_mode": {
    "name": "ipython",
    "version": 3
   },
   "file_extension": ".py",
   "mimetype": "text/x-python",
   "name": "python",
   "nbconvert_exporter": "python",
   "pygments_lexer": "ipython3",
   "version": "3.10.9"
  }
 },
 "nbformat": 4,
 "nbformat_minor": 5
}
